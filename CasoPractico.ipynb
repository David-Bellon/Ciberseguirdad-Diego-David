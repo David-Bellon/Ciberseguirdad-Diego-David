{
  "nbformat": 4,
  "nbformat_minor": 0,
  "metadata": {
    "colab": {
      "provenance": []
    },
    "kernelspec": {
      "name": "python3",
      "display_name": "Python 3"
    },
    "language_info": {
      "name": "python"
    }
  },
  "cells": [
    {
      "cell_type": "code",
      "source": [
        "pip install dnspython"
      ],
      "metadata": {
        "colab": {
          "base_uri": "https://localhost:8080/"
        },
        "id": "uLNAVSvUR8jD",
        "outputId": "70ed4fa0-c88f-4675-8404-52ae60b61645"
      },
      "execution_count": 26,
      "outputs": [
        {
          "output_type": "stream",
          "name": "stdout",
          "text": [
            "Looking in indexes: https://pypi.org/simple, https://us-python.pkg.dev/colab-wheels/public/simple/\n",
            "Collecting dnspython\n",
            "  Downloading dnspython-2.3.0-py3-none-any.whl (283 kB)\n",
            "\u001b[2K     \u001b[90m━━━━━━━━━━━━━━━━━━━━━━━━━━━━━━━━━━━━━━\u001b[0m \u001b[32m283.7/283.7 kB\u001b[0m \u001b[31m15.4 MB/s\u001b[0m eta \u001b[36m0:00:00\u001b[0m\n",
            "\u001b[?25hInstalling collected packages: dnspython\n",
            "Successfully installed dnspython-2.3.0\n"
          ]
        }
      ]
    },
    {
      "cell_type": "markdown",
      "source": [
        "Si por ejemplo queremos buscar cuales son los correos y números de teléfono que se encuentran en una página web podemos hacerlo de la siguiente manera. La página objetivo es la de contactos de la UAX ya que esta tiene más info y salen cosas mejores :)"
      ],
      "metadata": {
        "id": "7h8PWx0ZQ8ij"
      }
    },
    {
      "cell_type": "code",
      "execution_count": 2,
      "metadata": {
        "id": "O6Orb2sPQLEx"
      },
      "outputs": [],
      "source": [
        "import re\n",
        "import requests\n",
        "from bs4 import BeautifulSoup\n",
        "import pandas as pd\n",
        "\n",
        "original_url = \"https://www.uax.com/contacto\"\n",
        "\n",
        "scraped = set()\n",
        "\n",
        "emails = set()\n",
        "phones = set()\n",
        "\n",
        "try:\n",
        "    response = requests.get(original_url)\n",
        "except (requests.exceptions.MissingSchema, requests.exceptions.ConnectionError):\n",
        "    pass\n",
        "\n",
        "new_phones = set(re.findall(r\"\\+?3?4?\\d?\\d?\\s\\d\\d\\d?\\s\\d\\d\\d?\\s\\d\\d\\d?\\s?\\d?\\d?\\d?\", response.text, re.I))\n",
        "new_emails = set(re.findall(r\"[a-zA-Z0-9_.+-]+@[a-zA-Z0-9-]+\\.[a-zA-Z0-9-.]+\", response.text))\n",
        "emails.update(new_emails)\n",
        "phones.update(new_phones)\n",
        "\n",
        "soup = BeautifulSoup(response.text, \"html.parser\")\n",
        "df_em = pd.DataFrame(emails, columns=[\"Email\"])\n",
        "df_ph = pd.DataFrame(phones, columns=[\"Phones\"])\n",
        "df_em.to_csv('email.csv', index=False)\n",
        "df_ph.to_csv('phones.csv', index=False)"
      ]
    },
    {
      "cell_type": "markdown",
      "source": [
        "Vemos los Emails que hay"
      ],
      "metadata": {
        "id": "58Fjka7SRcQ7"
      }
    },
    {
      "cell_type": "code",
      "source": [
        "df_em"
      ],
      "metadata": {
        "colab": {
          "base_uri": "https://localhost:8080/",
          "height": 363
        },
        "id": "UVSoN05_RZW4",
        "outputId": "e3049cdb-59c0-4b1a-859c-b4a120b4c214"
      },
      "execution_count": 4,
      "outputs": [
        {
          "output_type": "execute_result",
          "data": {
            "text/plain": [
              "                         Email\n",
              "0  oficinadelestudiante@uax.es\n",
              "1                 inter@uax.es\n",
              "2            admisiones@uax.es\n",
              "3             fundacion@uax.es\n",
              "4                  info@UAX.es\n",
              "5                  info@uax.es\n",
              "6                  gaop@uax.es\n",
              "7        videojs-youtube@3.0.0\n",
              "8                musica@uax.es\n",
              "9              psicoped@uax.es"
            ],
            "text/html": [
              "\n",
              "  <div id=\"df-556848f9-6ce1-480e-a003-d743a8158dd2\">\n",
              "    <div class=\"colab-df-container\">\n",
              "      <div>\n",
              "<style scoped>\n",
              "    .dataframe tbody tr th:only-of-type {\n",
              "        vertical-align: middle;\n",
              "    }\n",
              "\n",
              "    .dataframe tbody tr th {\n",
              "        vertical-align: top;\n",
              "    }\n",
              "\n",
              "    .dataframe thead th {\n",
              "        text-align: right;\n",
              "    }\n",
              "</style>\n",
              "<table border=\"1\" class=\"dataframe\">\n",
              "  <thead>\n",
              "    <tr style=\"text-align: right;\">\n",
              "      <th></th>\n",
              "      <th>Email</th>\n",
              "    </tr>\n",
              "  </thead>\n",
              "  <tbody>\n",
              "    <tr>\n",
              "      <th>0</th>\n",
              "      <td>oficinadelestudiante@uax.es</td>\n",
              "    </tr>\n",
              "    <tr>\n",
              "      <th>1</th>\n",
              "      <td>inter@uax.es</td>\n",
              "    </tr>\n",
              "    <tr>\n",
              "      <th>2</th>\n",
              "      <td>admisiones@uax.es</td>\n",
              "    </tr>\n",
              "    <tr>\n",
              "      <th>3</th>\n",
              "      <td>fundacion@uax.es</td>\n",
              "    </tr>\n",
              "    <tr>\n",
              "      <th>4</th>\n",
              "      <td>info@UAX.es</td>\n",
              "    </tr>\n",
              "    <tr>\n",
              "      <th>5</th>\n",
              "      <td>info@uax.es</td>\n",
              "    </tr>\n",
              "    <tr>\n",
              "      <th>6</th>\n",
              "      <td>gaop@uax.es</td>\n",
              "    </tr>\n",
              "    <tr>\n",
              "      <th>7</th>\n",
              "      <td>videojs-youtube@3.0.0</td>\n",
              "    </tr>\n",
              "    <tr>\n",
              "      <th>8</th>\n",
              "      <td>musica@uax.es</td>\n",
              "    </tr>\n",
              "    <tr>\n",
              "      <th>9</th>\n",
              "      <td>psicoped@uax.es</td>\n",
              "    </tr>\n",
              "  </tbody>\n",
              "</table>\n",
              "</div>\n",
              "      <button class=\"colab-df-convert\" onclick=\"convertToInteractive('df-556848f9-6ce1-480e-a003-d743a8158dd2')\"\n",
              "              title=\"Convert this dataframe to an interactive table.\"\n",
              "              style=\"display:none;\">\n",
              "        \n",
              "  <svg xmlns=\"http://www.w3.org/2000/svg\" height=\"24px\"viewBox=\"0 0 24 24\"\n",
              "       width=\"24px\">\n",
              "    <path d=\"M0 0h24v24H0V0z\" fill=\"none\"/>\n",
              "    <path d=\"M18.56 5.44l.94 2.06.94-2.06 2.06-.94-2.06-.94-.94-2.06-.94 2.06-2.06.94zm-11 1L8.5 8.5l.94-2.06 2.06-.94-2.06-.94L8.5 2.5l-.94 2.06-2.06.94zm10 10l.94 2.06.94-2.06 2.06-.94-2.06-.94-.94-2.06-.94 2.06-2.06.94z\"/><path d=\"M17.41 7.96l-1.37-1.37c-.4-.4-.92-.59-1.43-.59-.52 0-1.04.2-1.43.59L10.3 9.45l-7.72 7.72c-.78.78-.78 2.05 0 2.83L4 21.41c.39.39.9.59 1.41.59.51 0 1.02-.2 1.41-.59l7.78-7.78 2.81-2.81c.8-.78.8-2.07 0-2.86zM5.41 20L4 18.59l7.72-7.72 1.47 1.35L5.41 20z\"/>\n",
              "  </svg>\n",
              "      </button>\n",
              "      \n",
              "  <style>\n",
              "    .colab-df-container {\n",
              "      display:flex;\n",
              "      flex-wrap:wrap;\n",
              "      gap: 12px;\n",
              "    }\n",
              "\n",
              "    .colab-df-convert {\n",
              "      background-color: #E8F0FE;\n",
              "      border: none;\n",
              "      border-radius: 50%;\n",
              "      cursor: pointer;\n",
              "      display: none;\n",
              "      fill: #1967D2;\n",
              "      height: 32px;\n",
              "      padding: 0 0 0 0;\n",
              "      width: 32px;\n",
              "    }\n",
              "\n",
              "    .colab-df-convert:hover {\n",
              "      background-color: #E2EBFA;\n",
              "      box-shadow: 0px 1px 2px rgba(60, 64, 67, 0.3), 0px 1px 3px 1px rgba(60, 64, 67, 0.15);\n",
              "      fill: #174EA6;\n",
              "    }\n",
              "\n",
              "    [theme=dark] .colab-df-convert {\n",
              "      background-color: #3B4455;\n",
              "      fill: #D2E3FC;\n",
              "    }\n",
              "\n",
              "    [theme=dark] .colab-df-convert:hover {\n",
              "      background-color: #434B5C;\n",
              "      box-shadow: 0px 1px 3px 1px rgba(0, 0, 0, 0.15);\n",
              "      filter: drop-shadow(0px 1px 2px rgba(0, 0, 0, 0.3));\n",
              "      fill: #FFFFFF;\n",
              "    }\n",
              "  </style>\n",
              "\n",
              "      <script>\n",
              "        const buttonEl =\n",
              "          document.querySelector('#df-556848f9-6ce1-480e-a003-d743a8158dd2 button.colab-df-convert');\n",
              "        buttonEl.style.display =\n",
              "          google.colab.kernel.accessAllowed ? 'block' : 'none';\n",
              "\n",
              "        async function convertToInteractive(key) {\n",
              "          const element = document.querySelector('#df-556848f9-6ce1-480e-a003-d743a8158dd2');\n",
              "          const dataTable =\n",
              "            await google.colab.kernel.invokeFunction('convertToInteractive',\n",
              "                                                     [key], {});\n",
              "          if (!dataTable) return;\n",
              "\n",
              "          const docLinkHtml = 'Like what you see? Visit the ' +\n",
              "            '<a target=\"_blank\" href=https://colab.research.google.com/notebooks/data_table.ipynb>data table notebook</a>'\n",
              "            + ' to learn more about interactive tables.';\n",
              "          element.innerHTML = '';\n",
              "          dataTable['output_type'] = 'display_data';\n",
              "          await google.colab.output.renderOutput(dataTable, element);\n",
              "          const docLink = document.createElement('div');\n",
              "          docLink.innerHTML = docLinkHtml;\n",
              "          element.appendChild(docLink);\n",
              "        }\n",
              "      </script>\n",
              "    </div>\n",
              "  </div>\n",
              "  "
            ]
          },
          "metadata": {},
          "execution_count": 4
        }
      ]
    },
    {
      "cell_type": "markdown",
      "source": [
        "Y los teléfonos que también hemos obtenido"
      ],
      "metadata": {
        "id": "8rqI7-mORjuX"
      }
    },
    {
      "cell_type": "code",
      "source": [
        "df_ph"
      ],
      "metadata": {
        "colab": {
          "base_uri": "https://localhost:8080/",
          "height": 426
        },
        "id": "Fv2805g1RnvI",
        "outputId": "1be3399e-0676-4d73-8070-06be9919bf50"
      },
      "execution_count": 6,
      "outputs": [
        {
          "output_type": "execute_result",
          "data": {
            "text/plain": [
              "              Phones\n",
              "0       91 375 73 73\n",
              "1       91 810 92 00\n",
              "2    +34 518 808 377\n",
              "3       91 810 98 00\n",
              "4   +34 91 910 17 67\n",
              "5       91 810 93 00\n",
              "6       91 440 23 30\n",
              "7       91 810 99 90\n",
              "8       91 810 97 00\n",
              "9       91 810 90 00\n",
              "10      91 353 27 97\n",
              "11      91 810 94 00"
            ],
            "text/html": [
              "\n",
              "  <div id=\"df-c4a4c612-f0e8-40ba-8659-da61235b2c37\">\n",
              "    <div class=\"colab-df-container\">\n",
              "      <div>\n",
              "<style scoped>\n",
              "    .dataframe tbody tr th:only-of-type {\n",
              "        vertical-align: middle;\n",
              "    }\n",
              "\n",
              "    .dataframe tbody tr th {\n",
              "        vertical-align: top;\n",
              "    }\n",
              "\n",
              "    .dataframe thead th {\n",
              "        text-align: right;\n",
              "    }\n",
              "</style>\n",
              "<table border=\"1\" class=\"dataframe\">\n",
              "  <thead>\n",
              "    <tr style=\"text-align: right;\">\n",
              "      <th></th>\n",
              "      <th>Phones</th>\n",
              "    </tr>\n",
              "  </thead>\n",
              "  <tbody>\n",
              "    <tr>\n",
              "      <th>0</th>\n",
              "      <td>91 375 73 73</td>\n",
              "    </tr>\n",
              "    <tr>\n",
              "      <th>1</th>\n",
              "      <td>91 810 92 00</td>\n",
              "    </tr>\n",
              "    <tr>\n",
              "      <th>2</th>\n",
              "      <td>+34 518 808 377</td>\n",
              "    </tr>\n",
              "    <tr>\n",
              "      <th>3</th>\n",
              "      <td>91 810 98 00</td>\n",
              "    </tr>\n",
              "    <tr>\n",
              "      <th>4</th>\n",
              "      <td>+34 91 910 17 67</td>\n",
              "    </tr>\n",
              "    <tr>\n",
              "      <th>5</th>\n",
              "      <td>91 810 93 00</td>\n",
              "    </tr>\n",
              "    <tr>\n",
              "      <th>6</th>\n",
              "      <td>91 440 23 30</td>\n",
              "    </tr>\n",
              "    <tr>\n",
              "      <th>7</th>\n",
              "      <td>91 810 99 90</td>\n",
              "    </tr>\n",
              "    <tr>\n",
              "      <th>8</th>\n",
              "      <td>91 810 97 00</td>\n",
              "    </tr>\n",
              "    <tr>\n",
              "      <th>9</th>\n",
              "      <td>91 810 90 00</td>\n",
              "    </tr>\n",
              "    <tr>\n",
              "      <th>10</th>\n",
              "      <td>91 353 27 97</td>\n",
              "    </tr>\n",
              "    <tr>\n",
              "      <th>11</th>\n",
              "      <td>91 810 94 00</td>\n",
              "    </tr>\n",
              "  </tbody>\n",
              "</table>\n",
              "</div>\n",
              "      <button class=\"colab-df-convert\" onclick=\"convertToInteractive('df-c4a4c612-f0e8-40ba-8659-da61235b2c37')\"\n",
              "              title=\"Convert this dataframe to an interactive table.\"\n",
              "              style=\"display:none;\">\n",
              "        \n",
              "  <svg xmlns=\"http://www.w3.org/2000/svg\" height=\"24px\"viewBox=\"0 0 24 24\"\n",
              "       width=\"24px\">\n",
              "    <path d=\"M0 0h24v24H0V0z\" fill=\"none\"/>\n",
              "    <path d=\"M18.56 5.44l.94 2.06.94-2.06 2.06-.94-2.06-.94-.94-2.06-.94 2.06-2.06.94zm-11 1L8.5 8.5l.94-2.06 2.06-.94-2.06-.94L8.5 2.5l-.94 2.06-2.06.94zm10 10l.94 2.06.94-2.06 2.06-.94-2.06-.94-.94-2.06-.94 2.06-2.06.94z\"/><path d=\"M17.41 7.96l-1.37-1.37c-.4-.4-.92-.59-1.43-.59-.52 0-1.04.2-1.43.59L10.3 9.45l-7.72 7.72c-.78.78-.78 2.05 0 2.83L4 21.41c.39.39.9.59 1.41.59.51 0 1.02-.2 1.41-.59l7.78-7.78 2.81-2.81c.8-.78.8-2.07 0-2.86zM5.41 20L4 18.59l7.72-7.72 1.47 1.35L5.41 20z\"/>\n",
              "  </svg>\n",
              "      </button>\n",
              "      \n",
              "  <style>\n",
              "    .colab-df-container {\n",
              "      display:flex;\n",
              "      flex-wrap:wrap;\n",
              "      gap: 12px;\n",
              "    }\n",
              "\n",
              "    .colab-df-convert {\n",
              "      background-color: #E8F0FE;\n",
              "      border: none;\n",
              "      border-radius: 50%;\n",
              "      cursor: pointer;\n",
              "      display: none;\n",
              "      fill: #1967D2;\n",
              "      height: 32px;\n",
              "      padding: 0 0 0 0;\n",
              "      width: 32px;\n",
              "    }\n",
              "\n",
              "    .colab-df-convert:hover {\n",
              "      background-color: #E2EBFA;\n",
              "      box-shadow: 0px 1px 2px rgba(60, 64, 67, 0.3), 0px 1px 3px 1px rgba(60, 64, 67, 0.15);\n",
              "      fill: #174EA6;\n",
              "    }\n",
              "\n",
              "    [theme=dark] .colab-df-convert {\n",
              "      background-color: #3B4455;\n",
              "      fill: #D2E3FC;\n",
              "    }\n",
              "\n",
              "    [theme=dark] .colab-df-convert:hover {\n",
              "      background-color: #434B5C;\n",
              "      box-shadow: 0px 1px 3px 1px rgba(0, 0, 0, 0.15);\n",
              "      filter: drop-shadow(0px 1px 2px rgba(0, 0, 0, 0.3));\n",
              "      fill: #FFFFFF;\n",
              "    }\n",
              "  </style>\n",
              "\n",
              "      <script>\n",
              "        const buttonEl =\n",
              "          document.querySelector('#df-c4a4c612-f0e8-40ba-8659-da61235b2c37 button.colab-df-convert');\n",
              "        buttonEl.style.display =\n",
              "          google.colab.kernel.accessAllowed ? 'block' : 'none';\n",
              "\n",
              "        async function convertToInteractive(key) {\n",
              "          const element = document.querySelector('#df-c4a4c612-f0e8-40ba-8659-da61235b2c37');\n",
              "          const dataTable =\n",
              "            await google.colab.kernel.invokeFunction('convertToInteractive',\n",
              "                                                     [key], {});\n",
              "          if (!dataTable) return;\n",
              "\n",
              "          const docLinkHtml = 'Like what you see? Visit the ' +\n",
              "            '<a target=\"_blank\" href=https://colab.research.google.com/notebooks/data_table.ipynb>data table notebook</a>'\n",
              "            + ' to learn more about interactive tables.';\n",
              "          element.innerHTML = '';\n",
              "          dataTable['output_type'] = 'display_data';\n",
              "          await google.colab.output.renderOutput(dataTable, element);\n",
              "          const docLink = document.createElement('div');\n",
              "          docLink.innerHTML = docLinkHtml;\n",
              "          element.appendChild(docLink);\n",
              "        }\n",
              "      </script>\n",
              "    </div>\n",
              "  </div>\n",
              "  "
            ]
          },
          "metadata": {},
          "execution_count": 6
        }
      ]
    },
    {
      "cell_type": "markdown",
      "source": [
        "Podemos ver ahora también todos las redirecciones que da la página que estamos observando. Con esto podemos obtener todas las redirecciones de una misma página para poder realizar también ciertos análisis en dichas páginas como el anterior de sacar números de teéfono y correos.\n",
        "También se obtienen enlaces interesantes como cuentas de redes sociales y demás."
      ],
      "metadata": {
        "id": "8sVu536RSsti"
      }
    },
    {
      "cell_type": "code",
      "source": [
        "original_url = \"https://www.uax.com/\"\n",
        "try:\n",
        "    response = requests.get(original_url)\n",
        "except (requests.exceptions.MissingSchema, requests.exceptions.ConnectionError):\n",
        "    pass\n",
        "soup = BeautifulSoup(response.text, \"html.parser\")\n",
        "for attribute in soup.select(\"a\"):\n",
        "  try:\n",
        "    aux = attribute.get(\"href\").split(\"://\")\n",
        "    if len(aux) > 1:\n",
        "      print(attribute.get(\"href\"))\n",
        "  except:\n",
        "    pass"
      ],
      "metadata": {
        "colab": {
          "base_uri": "https://localhost:8080/"
        },
        "id": "lEH03DcZRH_t",
        "outputId": "02b3716e-18c6-4d69-a62d-d6c219c35d84"
      },
      "execution_count": 28,
      "outputs": [
        {
          "output_type": "stream",
          "name": "stdout",
          "text": [
            "https://campus.uax.es/\n",
            "https://www.uax.com/educacion\n",
            "https://www.uax.com/campus-y-residencias\n",
            "https://www.uax.com/centros-y-laboratorios\n",
            "https://www.uax.com/instalaciones-deportivas\n",
            "https://www.uax.com/campus-tour-interactivo\n",
            "https://uax.moveonfr.com/publisher/1/eng\n",
            "https://www.uax.com/online\n",
            "https://wa.me/34518808377?text=\n",
            "https://www.uax.com/online\n",
            "https://wa.me/34518808377?text=\n",
            "https://campus.uax.es/\n",
            "https://www.uax.com/educacion\n",
            "https://www.uax.com/campus-y-residencias\n",
            "https://www.uax.com/centros-y-laboratorios\n",
            "https://www.uax.com/instalaciones-deportivas\n",
            "https://www.uax.com/campus-tour-interactivo\n",
            "https://uax.moveonfr.com/publisher/1/eng\n",
            "https://www.uax.com/noticias/tour-huawei-enterprise-roadshow-en-campus-uax-de-villanueva-de-la-canada\n",
            "https://www.uax.com/campus-tour-interactivo\n",
            "https://www.uax.com/oferta-academica?modalities%5B0%5D=719&program_types%5B0%5D=74&program_types%5B1%5D=75&program_types%5B2%5D=76\n",
            "https://www.uax.com/presencial\n",
            "https://www.uax.com/online\n",
            "https://www.clinicasuax.com/clinica-dodontologica\n",
            "http:///salud-y-deporte\n",
            "https://www.uax.com/grados/salud-y-deporte\n",
            "https://www.uax.com/masters-y-postgrados/salud-y-deporte\n",
            "https://www.uax.com/fps/salud-y-deporte\n",
            "https://www.uax.com/cursos-de-experto/salud-y-deporte\n",
            "https://www.uax.com/doctorados-y-postdoctorados/salud-y-deporte\n",
            "https://www.uax.com/grados/ingenieria-y-tecnologia\n",
            "https://www.uax.com/masters-y-postgrados/ingenieria-y-tecnologia\n",
            "https://www.uax.com/fps/ingenieria-y-tecnologia\n",
            "http:///empresa-y-derecho\n",
            "https://www.uax.com/grados/empresa-y-derecho\n",
            "https://www.uax.com/masters-y-postgrados/empresa-y-derecho\n",
            "https://www.uax.com/fps/empresa-y-derecho\n",
            "http:///area-de-educacion\n",
            "https://www.uax.com/grados/educacion\n",
            "https://www.uax.com/masters-y-postgrados/educacion\n",
            "https://www.uax.com/fps/educacion\n",
            "https://www.uax.com/cursos-de-experto/educacion\n",
            "http:///artes-y-musica\n",
            "https://www.uax.com/grados/artes-y-musica\n",
            "https://www.uax.com/masters-y-postgrados/artes-y-musica\n",
            "https://www.uax.com/nuestra-historia\n",
            "https://www.uax.com/rafanadalschoolofsport\n",
            "https://www.uax.com/innovacion-e-investigacion\n",
            "https://www.uax.com/noticias\n",
            "https://www.uax.com/grados/online\n",
            "https://www.uax.com/masters-y-postgrados/online\n",
            "https://www.uax.com/fps/online\n",
            "https://empleo.uax.es/\n",
            "https://apps.apple.com/es/app/uax-universidad-alfonso-x/id1172236650?l=en\n",
            "https://play.google.com/store/apps/details?id=net.universia.uax&hl=es\n",
            "https://www.facebook.com/uaxuniversidad\n",
            "https://www.youtube.com/user/webmasteruax\n",
            "https://www.linkedin.com/school/universidad-alfonso-x-el-sabio/\n",
            "https://twitter.com/uaxuniversidad\n",
            "https://www.instagram.com/uaxuniversidad/\n",
            "https://www.tiktok.com/discover/UAX\n",
            "https://www.facebook.com/uaxuniversidad\n",
            "https://www.youtube.com/user/webmasteruax\n",
            "https://www.linkedin.com/school/universidad-alfonso-x-el-sabio/\n",
            "https://twitter.com/uaxuniversidad\n",
            "https://www.instagram.com/uaxuniversidad/\n",
            "https://www.tiktok.com/discover/UAX\n"
          ]
        }
      ]
    },
    {
      "cell_type": "markdown",
      "source": [
        "Podemos también jugar con las DNS y mirar datos que puedan ser de interes o relacionados."
      ],
      "metadata": {
        "id": "jGNVFJNbUP8Q"
      }
    },
    {
      "cell_type": "code",
      "source": [
        "import dns.resolver\n",
        "import re\n",
        "\n",
        "domain = 'uax.com'\n",
        "\n",
        "response = dns.resolver.resolve(domain, 'SOA')\n",
        "\n",
        "if response.rrset is not None:\n",
        "    pattern= r'(%s)\\.\\s(\\d{1,})\\s(\\w+)\\sSOA\\s(.*?)\\.\\s(.*?)\\.\\s(\\d{1,})\\s(\\d{1,})\\s(\\d{1,})\\s(\\d{1,})\\s(\\d{1,})' % domain\n",
        "    match = re.match(pattern, str(response.rrset))\n",
        "    m_name, ttl, class_, ns, email, serial, refresh, retry, expiry, minim = match.groups()\n",
        "\n",
        "output ='''\n",
        "Main Name In Zone: {a},\n",
        "Cache TTL: {b},\n",
        "Class: {c},\n",
        "Authoritive NS: {d},\n",
        "Email Address: {e},\n",
        "Last Change: {f},\n",
        "Retry In Secs: {g},\n",
        "Expiry: {h},\n",
        "Slave Cache In Sec: {i}\n",
        "'''.format(a = m_name, b = ttl, c = class_, d = ns, e = str(email).replace('\\\\', ''), f = serial, g = retry, h = expiry, i = minim)\n",
        "\n",
        "print(output)"
      ],
      "metadata": {
        "colab": {
          "base_uri": "https://localhost:8080/"
        },
        "id": "fNWsPdpiSJEl",
        "outputId": "68a2d57a-8c74-4ceb-9fd4-a8cb74342994"
      },
      "execution_count": 29,
      "outputs": [
        {
          "output_type": "stream",
          "name": "stdout",
          "text": [
            "\n",
            "Main Name In Zone: uax.com,\n",
            "Cache TTL: 21600,\n",
            "Class: IN,\n",
            "Authoritive NS: zeus.uax.es,\n",
            "Email Address: postmaster.uax.es,\n",
            "Last Change: 2022060101,\n",
            "Retry In Secs: 3600,\n",
            "Expiry: 1209600,\n",
            "Slave Cache In Sec: 86400\n",
            "\n"
          ]
        }
      ]
    },
    {
      "cell_type": "markdown",
      "source": [
        "Como vemos podemos obtener el nombre del servidor como en este caso zeus.uax.es, su última fecha de modificacion y un correo."
      ],
      "metadata": {
        "id": "BsTGaC5XVVts"
      }
    },
    {
      "cell_type": "markdown",
      "source": [
        "A estás cosas anterirores se les pueden sumar varias cosas como encontrar también imágenes, archivos pdf, xls y demás pero son prácticamente iguales a las anteriores y para una introducción mas que suficiente ya que con código tampoco obtendremos los datos tan precisos y demás como al usar herramientas como maltego."
      ],
      "metadata": {
        "id": "02ce1r8SWed8"
      }
    },
    {
      "cell_type": "code",
      "source": [],
      "metadata": {
        "id": "tWUg_J9KXEdb"
      },
      "execution_count": null,
      "outputs": []
    }
  ]
}